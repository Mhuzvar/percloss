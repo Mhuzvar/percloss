{
 "cells": [
  {
   "cell_type": "markdown",
   "metadata": {},
   "source": [
    "# An Overview of Perceptually Relevant Metrics of Audio Similarity for Potential Use as Loss In Training Neural Networks\n",
    "\n",
    "There are several areas that need thorough exploration:\n",
    "- conventional loss functions\n",
    "   - equipped with some modification to improve their perceptual relevance\n",
    "   - like pre-emphasis\n",
    "- complex perception focused metrics\n",
    "   - mostly focused on quality assessment\n",
    "   - may need some modification as well\n",
    "- trained models\n",
    "   - least \"safe\" method but likely best performing *as long as the inputs are similar to training dataset*\n",
    "\n",
    "General notes from the literature:\n",
    "\n",
    "- Amos Tversky researched similarity, perception, and categorization from psychology point of view. He noted human perception does not satisfy the definition of a euclidean metric.\n",
    "- Large portion of \"music similarity\" research focuses on clustering music with the aim of content delivery optimization. [1](#references)\n",
    "- MFCC based distance may be helpful [1](#references) (not directly mentioned) and there should be a way to make mel-cepstral distance differentiable [2](#references)\n",
    "- \n"
   ]
  },
  {
   "cell_type": "markdown",
   "metadata": {},
   "source": [
    "## Conventional Loss\n",
    "\n",
    "- Pros\n",
    "   - easy to use\n",
    "   - easy to represent\n",
    "   - works the same regardless of data\n",
    "   - computationally not difficult\n",
    "- Cons\n",
    "   - perceptually irrelevant\n",
    "\n",
    "Conventional loss, such as MSE, might be better suited for the task at hand when improved with some form of pre-emphasis.\n"
   ]
  },
  {
   "cell_type": "markdown",
   "metadata": {},
   "source": [
    "\n",
    "## Perception Focused Metrics\n",
    "\n",
    "- Pros\n",
    "   - perceptually relevant\n",
    "   - works the same regardless of data\n",
    "- Cons\n",
    "   - may not be easy to use\n",
    "   - may not be easy to represent\n",
    "   - can be computationally difficult\n"
   ]
  },
  {
   "cell_type": "markdown",
   "metadata": {},
   "source": [
    "\n",
    "## Trained Models\n",
    "\n",
    "- Pros\n",
    "   - potential for best performance\n",
    "   - should be easy to use\n",
    "- Cons\n",
    "   - virtually impossible to represent\n",
    "   - no guarantee of performance on unknown data"
   ]
  },
  {
   "cell_type": "markdown",
   "metadata": {},
   "source": [
    "# References\n",
    "- [1] [A Large-Scale Evaluation of Acoustic and Subjective Music-Similarity Measures](https://www.jstor.org/stable/3681827)\n",
    "- [2] [Embedding a Differentiable MEL-Cepstral Synthesis Filter to a Neural Speech Synthesis System](https://arxiv.org/pdf/2211.11222)"
   ]
  }
 ],
 "metadata": {
  "language_info": {
   "name": "python"
  }
 },
 "nbformat": 4,
 "nbformat_minor": 2
}
