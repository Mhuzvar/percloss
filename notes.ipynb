{
 "cells": [
  {
   "cell_type": "markdown",
   "metadata": {},
   "source": [
    "# An Overview of Perceptually Relevant Metrics of Audio Similarity for Potential Use as Loss In Training Neural Networks\n",
    "\n",
    "There are several areas that need thorough exploration:\n",
    "- conventional loss functions\n",
    "   - equipped with some modification to improve their perceptual relevance\n",
    "   - like pre-emphasis\n",
    "- complex perception focused metrics\n",
    "   - mostly focused on quality assessment\n",
    "   - may need some modification as well\n",
    "- trained models\n",
    "   - least \"safe\" method but likely best performing *as long as the inputs are similar to training dataset*\n",
    "\n",
    "General notes from the literature:\n",
    "\n",
    "- Amos Tversky researched similarity, perception, and categorization from psychology point of view. He noted human perception does not satisfy the definition of a euclidean metric [1](#references).\n",
    "- Large portion of \"music similarity\" research focuses on clustering music with the aim of content delivery optimization [1](#references).\n",
    "- MFCC based distance may be helpful [1](#references) (not directly mentioned) and there should be a way to make mel-cepstral distance differentiable [2](#references).\n",
    "- \n"
   ]
  },
  {
   "cell_type": "markdown",
   "metadata": {},
   "source": [
    "## Conventional Loss\n",
    "\n",
    "- Pros\n",
    "   - easy to use\n",
    "   - easy to represent\n",
    "   - works the same regardless of data\n",
    "   - computationally not difficult\n",
    "- Cons\n",
    "   - perceptually irrelevant\n",
    "\n",
    "Conventional loss, such as MSE, might be better suited for the task at hand when improved with some form of pre-emphasis.\n"
   ]
  },
  {
   "cell_type": "markdown",
   "metadata": {},
   "source": [
    "\n",
    "## Perception Focused Metrics\n",
    "\n",
    "- Pros\n",
    "   - perceptually relevant\n",
    "   - works the same regardless of data\n",
    "- Cons\n",
    "   - may not be easy to use\n",
    "   - may not be easy to represent\n",
    "   - can be computationally difficult\n",
    "\n",
    "### Notes From Literature\n",
    "\n",
    "- PEMO-Q [3](#references)\n",
    "   - ...\n",
    "\n",
    "- ViSQOLAudio"
   ]
  },
  {
   "cell_type": "markdown",
   "metadata": {},
   "source": [
    "\n",
    "## Trained Models\n",
    "\n",
    "- Pros\n",
    "   - potential for best performance\n",
    "   - should be easy to use\n",
    "- Cons\n",
    "   - virtually impossible to represent\n",
    "   - no guarantee of performance on unknown data"
   ]
  },
  {
   "cell_type": "markdown",
   "metadata": {},
   "source": [
    "# References\n",
    "- [1] [A Large-Scale Evaluation of Acoustic and Subjective Music-Similarity Measures](https://www.jstor.org/stable/3681827)\n",
    "- [2] [Embedding a Differentiable MEL-Cepstral Synthesis Filter to a Neural Speech Synthesis System](https://arxiv.org/pdf/2211.11222)\n",
    "- [3] [PEMO-Q—A New Method for Objective Audio Quality Assessment Using a Model of Auditory Perception](https://ieeexplore.ieee.org/document/1709880)"
   ]
  },
  {
   "cell_type": "markdown",
   "metadata": {},
   "source": [
    "## Sources to go through\n",
    "\n",
    "- [a] A Differentiable Perceptual Audio Metric Learned from Just Noticeable Differences\n",
    "  - https://arxiv.org/abs/2001.04460\n",
    "  - neural network trained on a large dataset of crowdsourced human judgements\n",
    "  - implemented in TesorFlow at: https://github.com/pranaymanocha/PerceptualAudio?tab=readme-ov-file\n",
    "- [b] Auditory Feature-based Perceptual Distance\n",
    "  - https://www.ncbi.nlm.nih.gov/pmc/articles/PMC10925319/\n",
    "  - not reviewed yet\n",
    "  - comparison of several options\n",
    "- [c] Audio retrieval based on perceptual similarity\n",
    "  - https://ieeexplore.ieee.org/document/7014580\n",
    "- [d] Modeling Perceptual Similarity of Audio Signals for Blind Source Separation Evaluation\n",
    "  - https://www.researchgate.net/publication/220848024_Modeling_Perceptual_Similarity_of_Audio_Signals_for_Blind_Source_Separation_Evaluation\n",
    "- [e] A Similarity Measure for Automatic Audio Classification\n",
    "  - likely not too useful\n",
    "  - https://cdn.aaai.org/Symposia/Spring/1997/SS-97-03/SS97-03-001.pdf\n",
    "- [f] An Objective Metric of Human Subjective Audio Quality Optimized for a Wide Range of Audio Fidelities\n",
    "  - https://ieeexplore.ieee.org/abstract/document/4358089\n",
    "- [g] Music Popularity: Metrics, Characteristics, and Audio-Based Prediction\n",
    "  - https://ieeexplore.ieee.org/abstract/document/8327835"
   ]
  },
  {
   "cell_type": "markdown",
   "metadata": {},
   "source": [
    "# Help From Others\n",
    "\n",
    "### Metody hodnoceni zvuku od Vaska\n",
    "\n",
    "\n",
    ">Ahoj,\n",
    ">\n",
    ">tady jsou nejake linky na systemy hodnoceni kvality zvuku, ktere by se mohly dat aplikovat na Tvuj problem.\n",
    ">\n",
    ">https://github.com/google/visqol Tohle je system, ktery je podle clanku obstojny a asi jeden z poslednich, o kterych vim. https://ieeexplore.ieee.org/stamp/stamp.jsp?tp=&arnumber=7940042\n",
    ">\n",
    ">Tohle je starsi system, ktery ma jednodussi impementaci, takze mozna pro zacatek by byl rozumnejsi https://ieeexplore.ieee.org/document/1709880\n",
    ">\n",
    ">Obecne ty systemy vyuzivaji banky filtru zvanou gammatone filterbank, ktera se da najit treba tady https://amtoolbox.org/models.php Ten zbytek algoritmu by se mel taky dat najit v tom toolboxu a vyhodnoceni uz je pomoci rovnic, co se daji snadno implementovat.\n",
    ">\n",
    ">\n",
    ">Ja sam jsem nikdy prakticky ty systemy nepouzil. Prevzal jsem rozhodovaci cast z PEMO-Q pro jeden konferencni prispevek. Tam jsem nahradil banku filtru necim, co by melo byt vernejsi funkci sluchu, ale zase je to vypocetne nesrovnale narocnejsi. Takze bych sam spise zacal od tech zavedenych signal processingovych postupu v odkazech. Kdyby jsi o funkci sluchu chtel vedet vic, pak mam v doktorske etape predmet.\n",
    ">\n",
    ">Vasek\n"
   ]
  }
 ],
 "metadata": {
  "language_info": {
   "name": "python"
  }
 },
 "nbformat": 4,
 "nbformat_minor": 2
}
